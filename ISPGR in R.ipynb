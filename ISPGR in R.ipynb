{
 "cells": [
  {
   "cell_type": "code",
   "execution_count": null,
   "metadata": {},
   "outputs": [],
   "source": [
    "# Load libraries for webscraping, data wrangling, and mapping\n",
    "library(xml2)\n",
    "library(rvest)\n",
    "library(stringr)\n",
    "library(tidyverse)\n",
    "library(leaflet)\n",
    "library(htmlwidgets)"
   ]
  },
  {
   "cell_type": "code",
   "execution_count": null,
   "metadata": {},
   "outputs": [],
   "source": [
    "# Specifying the url for desired website to be scraped\n",
    "url <- 'https://ispgr.org/past-congresses/'\n",
    "\n",
    "# Reading the HTML code from the website\n",
    "webpage <- read_html(url)"
   ]
  },
  {
   "cell_type": "code",
   "execution_count": null,
   "metadata": {},
   "outputs": [],
   "source": [
    "# Create list of congress years\n",
    "year_node <- html_nodes(webpage, '.et_pb_module_header')\n",
    "year <- html_text(year_node)\n",
    "year_list <- as.list(year)\n",
    "\n",
    "# Create list of congress locations\n",
    "place_node <- html_nodes(webpage, '.et_pb_blurb_description')\n",
    "place <-html_text(place_node)\n",
    "place <- str_replace_all(place, '[\\t\\n]', '')\n",
    "dates <- '[:alpha:]*[\\\\s]*+[:digit:]*[\\\\s]*[-][\\\\s]*[:alpha:]*[\\\\s]*+[:digit:]*[\\\\s]*'\n",
    "place <- str_replace_all(place, dates, '')\n",
    "place <- gsub(\"([a-z])([A-Z])\", \"\\\\1 \\\\2\", place)\n",
    "place_list <- as.list(place)\n",
    "\n",
    "# Create list of flag images\n",
    "flag_node <- html_nodes(webpage, '.et_pb_image_wrap')\n",
    "flag <- html_children(flag_node)\n",
    "image_src <- 'src\\\\s*=\\\\s*\"(.+?)\"'\n",
    "flag <- str_extract_all(flag, image_src)\n",
    "flag <- str_replace_all(flag, 'src\\\\s*=\\\\s*+[\"]', '')\n",
    "flag <- str_replace_all(flag, '[\"]', '')\n",
    "flag_list <- as.list(flag)\n",
    "\n",
    "# Create dataframe\n",
    "ispgr_data <- data.frame(Year = matrix(unlist(year_list), nrow=length(year_list), byrow=T))\n",
    "ispgr_data$Location <- place_list\n",
    "ispgr_data$Flag <- flag_list\n",
    "\n",
    "# Remove cancelled ISPGR from dataframe\n",
    "ispgr_data = filter(ispgr_data, Year!=\"2011\")\n",
    "ispgr_data"
   ]
  },
  {
   "cell_type": "code",
   "execution_count": null,
   "metadata": {},
   "outputs": [],
   "source": [
    "content_node <- html_nodes(webpage, '.et_pb_toggle_content')\n",
    "content <- html_text(content_node)\n",
    "content <- str_replace_all(content, '[\\t\\n]', '')\n",
    "\n",
    "extra_data <- data.frame(matrix(nrow=length(content_node)))"
   ]
  },
  {
   "cell_type": "raw",
   "metadata": {},
   "source": [
    "extra_data <- data.frame(matrix(NA, nrow = length(content_node)))"
   ]
  },
  {
   "cell_type": "code",
   "execution_count": null,
   "metadata": {},
   "outputs": [],
   "source": [
    "library(leaflet)\n",
    "leaflet() %>% addTiles()"
   ]
  },
  {
   "cell_type": "code",
   "execution_count": null,
   "metadata": {},
   "outputs": [],
   "source": []
  }
 ],
 "metadata": {
  "kernelspec": {
   "display_name": "R",
   "language": "R",
   "name": "ir"
  },
  "language_info": {
   "codemirror_mode": "r",
   "file_extension": ".r",
   "mimetype": "text/x-r-source",
   "name": "R",
   "pygments_lexer": "r",
   "version": "3.5.1"
  }
 },
 "nbformat": 4,
 "nbformat_minor": 2
}
